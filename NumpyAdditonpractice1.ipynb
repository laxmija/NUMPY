{
 "cells": [
  {
   "cell_type": "markdown",
   "metadata": {},
   "source": [
    "Write a Python program which accepts a list named : randomList = ['a', 0,\n",
    "Use exception handling using try-catch which gives the output as:\n",
    "Output\n",
    "1) If the List element is a alphabet or string, the output will be\n",
    "The entry is a\n",
    "Oops! <class 'ValueError'> occured.\n",
    "Next entry.\n",
    "2) If the List element is “0”,the output will be\n",
    "The entry is 0\n",
    "Oops! <class 'ZeroDivisionError'> occured.\n",
    "Next entry.\n",
    "3) If the List element is and integer except 0,then output will be\n",
    "The entry is 2\n",
    "The reciprocal of 2 is 0.5 // reciprocal of an integer"
   ]
  },
  {
   "cell_type": "code",
   "execution_count": 26,
   "metadata": {},
   "outputs": [
    {
     "name": "stdout",
     "output_type": "stream",
     "text": [
      "The item is a\n",
      "Oops! <class 'ValueError'> occured.\n",
      "Next entry.\n",
      "\n",
      "The item is 0\n",
      "Oops! <class 'ZeroDivisionError'> occured.\n",
      "Next entry.\n",
      "\n",
      "The item is 2\n",
      "The reciprocal of 2 is 0.5\n"
     ]
    }
   ],
   "source": [
    "import numpy as np\n",
    "import sys\n",
    "\n",
    "randomList = ['a', 0, 2]\n",
    "\n",
    "for item in randomList:\n",
    "    try:\n",
    "        print(\"The item is\", item)\n",
    "        rec = 1/int(item)\n",
    "        \n",
    "    except:\n",
    "        print(\"Oops!\",sys.exc_info()[0],\"occured.\")\n",
    "        print(\"Next entry.\")\n",
    "        print()\n",
    "        \n",
    "print(\"The reciprocal of\",item,\"is\",rec)\n"
   ]
  },
  {
   "cell_type": "markdown",
   "metadata": {},
   "source": [
    "2.Array out of Bound Exception\n",
    "Write a Python program to give exception “Array Out of Bound” if the\n",
    "user wants to access the elements beyond the list size (use try and exce\n",
    "pt)"
   ]
  },
  {
   "cell_type": "code",
   "execution_count": 26,
   "metadata": {},
   "outputs": [
    {
     "name": "stdout",
     "output_type": "stream",
     "text": [
      "2\n",
      "3\n",
      "4\n",
      "5\n",
      "Array Out of Bound:\n"
     ]
    }
   ],
   "source": [
    "a = [1, 2, 3, 4, 5] \n",
    "  \n",
    "# printing the list using loop \n",
    "try:\n",
    "    for x in range(len(a)): \n",
    "        print(a[x+1])\n",
    "    \n",
    "except:\n",
    "     print(\"Array Out of Bound:\")"
   ]
  },
  {
   "cell_type": "markdown",
   "metadata": {},
   "source": [
    "3) Write a python module script that contains fib2() method to calculate the\n",
    "fibonacci series till 1000 and save it as fibo.py."
   ]
  },
  {
   "cell_type": "code",
   "execution_count": 2,
   "metadata": {},
   "outputs": [],
   "source": [
    "import fibo as fib"
   ]
  },
  {
   "cell_type": "code",
   "execution_count": 6,
   "metadata": {},
   "outputs": [
    {
     "data": {
      "text/plain": [
       "[1, 1, 2, 3, 5, 8, 13, 21, 34, 55, 89, 144, 233, 377, 610, 987]"
      ]
     },
     "execution_count": 6,
     "metadata": {},
     "output_type": "execute_result"
    }
   ],
   "source": [
    "fib.fib2(1000)"
   ]
  },
  {
   "cell_type": "code",
   "execution_count": null,
   "metadata": {},
   "outputs": [],
   "source": []
  },
  {
   "cell_type": "code",
   "execution_count": null,
   "metadata": {},
   "outputs": [],
   "source": []
  },
  {
   "cell_type": "code",
   "execution_count": null,
   "metadata": {},
   "outputs": [],
   "source": []
  }
 ],
 "metadata": {
  "kernelspec": {
   "display_name": "Python 3",
   "language": "python",
   "name": "python3"
  },
  "language_info": {
   "codemirror_mode": {
    "name": "ipython",
    "version": 3
   },
   "file_extension": ".py",
   "mimetype": "text/x-python",
   "name": "python",
   "nbconvert_exporter": "python",
   "pygments_lexer": "ipython3",
   "version": "3.7.0"
  }
 },
 "nbformat": 4,
 "nbformat_minor": 2
}
